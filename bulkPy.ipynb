{
 "cells": [
  {
   "cell_type": "code",
   "execution_count": 1,
   "id": "cc57f97c",
   "metadata": {},
   "outputs": [],
   "source": [
    "data_novo  = open('flights.json','r')"
   ]
  },
  {
   "cell_type": "code",
   "execution_count": 2,
   "id": "fd73fd7c",
   "metadata": {},
   "outputs": [],
   "source": [
    "data_bulk = open('flights_formatbulkssss.json','w')\n",
    "data_line = data_novo.readlines()"
   ]
  },
  {
   "cell_type": "code",
   "execution_count": 3,
   "id": "a9d12684",
   "metadata": {},
   "outputs": [],
   "source": [
    "e = 0"
   ]
  },
  {
   "cell_type": "code",
   "execution_count": 4,
   "id": "35b70430",
   "metadata": {},
   "outputs": [
    {
     "data": {
      "text/plain": [
       "<function TextIOWrapper.close()>"
      ]
     },
     "execution_count": 4,
     "metadata": {},
     "output_type": "execute_result"
    }
   ],
   "source": [
    "\n",
    "for i in data_line:\n",
    "    data_bulk.write('{\"index\":{\"_index\":\"souaibou_onshot1\", \"_type\":\"_doc\", \"_id\":'+str(e)+'}}\\n')\n",
    "    i = i.replace(\"'\",'\"')\n",
    "    data_bulk.write(i)\n",
    "    e += 1\n",
    "data_novo.close()\n",
    "data_bulk.close"
   ]
  },
  {
   "cell_type": "code",
   "execution_count": null,
   "id": "d021036f",
   "metadata": {},
   "outputs": [],
   "source": []
  }
 ],
 "metadata": {
  "kernelspec": {
   "display_name": "Python 3",
   "language": "python",
   "name": "python3"
  },
  "language_info": {
   "codemirror_mode": {
    "name": "ipython",
    "version": 3
   },
   "file_extension": ".py",
   "mimetype": "text/x-python",
   "name": "python",
   "nbconvert_exporter": "python",
   "pygments_lexer": "ipython3",
   "version": "3.8.8"
  }
 },
 "nbformat": 4,
 "nbformat_minor": 5
}
