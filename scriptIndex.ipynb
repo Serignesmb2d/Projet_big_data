{
 "cells": [
  {
   "cell_type": "code",
   "execution_count": 1,
   "id": "7741b85c",
   "metadata": {},
   "outputs": [],
   "source": [
    "import requests\n",
    "import datetime\n",
    "from requests.models import Response"
   ]
  },
  {
   "cell_type": "code",
   "execution_count": 2,
   "id": "69c654f6",
   "metadata": {},
   "outputs": [],
   "source": [
    "index_name = \"souaibou_onshot1\""
   ]
  },
  {
   "cell_type": "code",
   "execution_count": 3,
   "id": "e973e091",
   "metadata": {},
   "outputs": [],
   "source": [
    "headers = {\"Content-Type\": \"application/json\"}"
   ]
  },
  {
   "cell_type": "code",
   "execution_count": 4,
   "id": "c509ea6a",
   "metadata": {},
   "outputs": [],
   "source": [
    "json_datas = {\n",
    "    \"location\": \"14.76, -14.76\",\n",
    "    \"typeProduit\": \"Coca\",\n",
    "    \"price\": 1000\n",
    "}"
   ]
  },
  {
   "cell_type": "code",
   "execution_count": 5,
   "id": "8c4e1b62",
   "metadata": {},
   "outputs": [
    {
     "name": "stdout",
     "output_type": "stream",
     "text": [
      "201\n"
     ]
    }
   ],
   "source": [
    "r = requests.post(r\"http://20.126.103.217:9200/\"+index_name+r\"/_doc\", json=json_datas, headers=headers)\n",
    "\n",
    "r.raise_for_status()\n",
    "print(r.status_code)"
   ]
  },
  {
   "cell_type": "code",
   "execution_count": null,
   "id": "79175919",
   "metadata": {},
   "outputs": [],
   "source": []
  },
  {
   "cell_type": "code",
   "execution_count": null,
   "id": "1508111b",
   "metadata": {},
   "outputs": [],
   "source": []
  }
 ],
 "metadata": {
  "kernelspec": {
   "display_name": "Python 3",
   "language": "python",
   "name": "python3"
  },
  "language_info": {
   "codemirror_mode": {
    "name": "ipython",
    "version": 3
   },
   "file_extension": ".py",
   "mimetype": "text/x-python",
   "name": "python",
   "nbconvert_exporter": "python",
   "pygments_lexer": "ipython3",
   "version": "3.8.8"
  }
 },
 "nbformat": 4,
 "nbformat_minor": 5
}
