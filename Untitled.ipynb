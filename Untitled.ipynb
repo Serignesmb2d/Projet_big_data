{
 "cells": [
  {
   "cell_type": "code",
   "execution_count": 1,
   "id": "d73ee6c5",
   "metadata": {},
   "outputs": [
    {
     "name": "stdout",
     "output_type": "stream",
     "text": [
      "Requirement already satisfied: kafka-python in c:\\users\\hp\\anaconda3\\lib\\site-packages (2.0.2)\n",
      "Note: you may need to restart the kernel to use updated packages.\n"
     ]
    }
   ],
   "source": [
    "pip install kafka-python"
   ]
  },
  {
   "cell_type": "code",
   "execution_count": 6,
   "id": "908a62a7",
   "metadata": {},
   "outputs": [],
   "source": [
    "from kafka import KafkaProducer\n",
    "producer = KafkaProducer(bootstrap_servers='217.182.68.36:9092')\n",
    "producer.send('souaibou', b'{\"Year\": 2014, \"Month\": 7, \"DayofMonth\": 17, \"DayOfWeek\": 3, \"DepTime\": \"612\", \"CRSDepTime\": 620, \"ArrTime\": \"818\", \"CRSArrTime\": 829, \"UniqueCarrier\": \"DL\", \"FlightNum\": 1092, \"TailNum\": \"N3733Z\", \"ActualElapsedTime\": \"126\", \"CRSElapsedTime\": \"129\", \"AirTime\": \"100\", \"ArrDelay\": \"-11\", \"DepDelay\": \"-8\", \"Origin\": \"LGA\", \"Dest\": \"CVG\", \"Distance\": 585, \"TaxiIn\": 4, \"TaxiOut\": 22, \"Cancelled\": 0, \"Diverted\": 0, \"CarrierDelay\": 0, \"WeatherDelay\": 0, \"NASDelay\": 0, \"SecurityDelay\": 0, \"LateAircraftDelay\": 0, \"iata\": \"LGA\", \"airport\": \"LaGuardia\", \"city\": \"New York\", \"state\": \"NY\", \"country\": \"USA\", \"lat\": 40.77724306, \"long\": -73.87260917, \"Code\": \"DL\", \"Description\": \"Delta Air Lines Inc.\", \"location\": \"40.77724306,-73.87260917\"}')\n",
    "producer.flush()"
   ]
  },
  {
   "cell_type": "code",
   "execution_count": null,
   "id": "d2005f7e",
   "metadata": {},
   "outputs": [],
   "source": []
  }
 ],
 "metadata": {
  "kernelspec": {
   "display_name": "Python 3",
   "language": "python",
   "name": "python3"
  },
  "language_info": {
   "codemirror_mode": {
    "name": "ipython",
    "version": 3
   },
   "file_extension": ".py",
   "mimetype": "text/x-python",
   "name": "python",
   "nbconvert_exporter": "python",
   "pygments_lexer": "ipython3",
   "version": "3.8.8"
  }
 },
 "nbformat": 4,
 "nbformat_minor": 5
}
